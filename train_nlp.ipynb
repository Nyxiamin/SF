{
 "cells": [
  {
   "cell_type": "markdown",
   "metadata": {},
   "source": [
    "# entrainenement NLP\n",
    "disclaimer : ceci un notepad pour s'entrainer au NLP"
   ]
  },
  {
   "cell_type": "code",
   "execution_count": null,
   "metadata": {},
   "outputs": [],
   "source": []
  }
 ],
 "metadata": {
  "language_info": {
   "name": "python"
  }
 },
 "nbformat": 4,
 "nbformat_minor": 2
}
